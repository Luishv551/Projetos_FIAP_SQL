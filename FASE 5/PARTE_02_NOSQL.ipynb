{
  "nbformat": 4,
  "nbformat_minor": 0,
  "metadata": {
    "colab": {
      "provenance": []
    },
    "kernelspec": {
      "name": "python3",
      "display_name": "Python 3"
    },
    "language_info": {
      "name": "python"
    }
  },
  "cells": [
    {
      "cell_type": "markdown",
      "source": [
        "# Consolidando dados e calculando Outliers"
      ],
      "metadata": {
        "id": "3lncljKrkmeY"
      }
    },
    {
      "cell_type": "code",
      "source": [
        "import os\n",
        "import csv\n",
        "\n",
        "# Caminho para a pasta que contém os arquivos CSV\n",
        "\n",
        "#Aqui é preciso importar os dados dentro do Collab caso queriam testar\n",
        "pasta_csv = 'C:/Users/luish/OneDrive/Área de Trabalho/FIAP Projetos/FASE 5/ASSETS_PBL_FIAP_ON_1TSC_FASE_5'\n",
        "\n",
        "# Lista para armazenar as linhas de todos os arquivos CSV\n",
        "linhas_combinadas = []\n",
        "\n",
        "# Iterar sobre os arquivos na pasta\n",
        "for arquivo in os.listdir(pasta_csv):\n",
        "    if arquivo.endswith('.csv'):\n",
        "        caminho_arquivo = os.path.join(pasta_csv, arquivo)\n",
        "        with open(caminho_arquivo, 'r', newline='', encoding='latin1') as arquivo_csv:\n",
        "            leitor_csv = csv.reader(arquivo_csv)\n",
        "            linhas = list(leitor_csv)\n",
        "            if linhas_combinadas:\n",
        "                linhas_combinadas.extend(linhas[1:])\n",
        "            else:\n",
        "                linhas_combinadas.extend(linhas)\n",
        "\n",
        "# Salvar as linhas combinadas em um novo arquivo CSV\n",
        "caminho_saida = 'resultado_final.csv'\n",
        "with open(caminho_saida, 'w', newline='', encoding='latin1') as arquivo_saida:\n",
        "    escritor_csv = csv.writer(arquivo_saida)\n",
        "    escritor_csv.writerows(linhas_combinadas)\n",
        "\n",
        "print(\"Arquivo CSV final gerado com sucesso.\")"
      ],
      "metadata": {
        "id": "pT7RSr7Rk2r_"
      },
      "execution_count": null,
      "outputs": []
    },
    {
      "cell_type": "code",
      "execution_count": null,
      "metadata": {
        "id": "8H7MXFmjqMvr"
      },
      "outputs": [],
      "source": [
        "import pandas as pd\n",
        "import numpy as np\n",
        "import matplotlib.pyplot as plt\n",
        "import warnings\n",
        "import plotly.express as px\n",
        "\n",
        "warnings.filterwarnings('ignore')\n",
        "arquivo = \"resultado_final.csv\"\n",
        "\n",
        "\n",
        "try:\n",
        "    df = pd.read_csv(arquivo, encoding='latin-1', error_bad_lines=False, delimiter=';')\n",
        "except pd.errors.ParserError as e:\n",
        "    print(f\"Erro na leitura do arquivo CSV: {e}\")\n",
        "\n",
        "\n",
        "if 'df' in locals():\n",
        "    df.info()\n"
      ]
    },
    {
      "cell_type": "code",
      "source": [
        "df.head"
      ],
      "metadata": {
        "id": "V3K_Ujw2Uq7i"
      },
      "execution_count": null,
      "outputs": []
    },
    {
      "cell_type": "code",
      "source": [
        "#GERANDO UM CSV COM OS OUTLIERS\n",
        "\n",
        "import pandas as pd\n",
        "import numpy as np\n",
        "\n",
        "df['quantidade'] = pd.to_numeric(df['quantidade'], errors='coerce', downcast='integer')\n",
        "\n",
        "# Passo 1: Calcule o IQR (Intervalo Interquartil)\n",
        "Q1 = df['quantidade'].quantile(0.25)\n",
        "Q3 = df['quantidade'].quantile(0.75)\n",
        "IQR = Q3 - Q1\n",
        "\n",
        "# Passo 2: Defina limites para identificar outliers\n",
        "limite_inferior = Q1 - 1.5 * IQR\n",
        "limite_superior = Q3 + 1.5 * IQR\n",
        "\n",
        "# Passo 3: Identifique os outliers\n",
        "outliers = df[(df['quantidade'] < limite_inferior) | (df['quantidade'] > limite_superior)]\n",
        "\n",
        "outliers.to_csv('Outliers.csv', index=False)\n"
      ],
      "metadata": {
        "id": "vWrajEOHXKrt"
      },
      "execution_count": 13,
      "outputs": []
    },
    {
      "cell_type": "code",
      "source": [
        "#GERANDO UM CSV SEM OS OUTLIERS\n",
        "\n",
        "import pandas as pd\n",
        "import numpy as np\n",
        "\n",
        "df['quantidade'] = pd.to_numeric(df['quantidade'], errors='coerce', downcast='integer')\n",
        "\n",
        "# Passo 1: Calcule o IQR (Intervalo Interquartil)\n",
        "Q1 = df['quantidade'].quantile(0.25)\n",
        "Q3 = df['quantidade'].quantile(0.75)\n",
        "IQR = Q3 - Q1\n",
        "\n",
        "# Passo 2: Defina limites para identificar outliers\n",
        "limite_inferior = Q1 - 1.5 * IQR\n",
        "limite_superior = Q3 + 1.5 * IQR\n",
        "\n",
        "# Passo 3: Identifique os outliers\n",
        "outliers = df[(df['quantidade'] < limite_inferior) | (df['quantidade'] > limite_superior)]\n",
        "\n",
        "# Crie um novo DataFrame excluindo os outliers\n",
        "df_sem_outliers = df[~df.index.isin(outliers.index)]\n",
        "\n",
        "# Agora, df_sem_outliers contém a planilha original excluindo os outliers\n",
        "df_sem_outliers.to_csv('Sem_Outliers.csv', index=False)\n"
      ],
      "metadata": {
        "id": "VzkJmKP5kQpL"
      },
      "execution_count": 60,
      "outputs": []
    },
    {
      "cell_type": "code",
      "source": [
        "#CALCULANDO MEDIDAS DE VARIABILIDADE SEM OUTLIERS\n",
        "\n",
        "import pandas as pd\n",
        "import numpy as np\n",
        "\n",
        "# Carregue o DataFrame original\n",
        "arquivo = \"Sem_Outliers.csv\"  # Substitua pelo nome do seu arquivo original\n",
        "\n",
        "# Agora, calcule estimativas de variabilidade sem considerar outliers\n",
        "media_sem_outliers = df_sem_outliers['quantidade'].mean()\n",
        "mediana_sem_outliers = df_sem_outliers['quantidade'].median()\n",
        "desvio_padrao_sem_outliers = df_sem_outliers['quantidade'].std()\n",
        "variancia_sem_outliers = df_sem_outliers['quantidade'].var()\n",
        "iqr_sem_outliers = df_sem_outliers['quantidade'].quantile(0.75) - df_sem_outliers['quantidade'].quantile(0.25)\n",
        "\n",
        "# Imprima as estimativas de variabilidade\n",
        "print(\"Média sem outliers:\", media_sem_outliers)\n",
        "print(\"Mediana sem outliers:\", mediana_sem_outliers)\n",
        "print(\"Desvio Padrão sem outliers:\", desvio_padrao_sem_outliers)\n",
        "print(\"Variância sem outliers:\", variancia_sem_outliers)\n",
        "print(\"IQR (Intervalo Interquartil) sem outliers:\", iqr_sem_outliers)\n"
      ],
      "metadata": {
        "colab": {
          "base_uri": "https://localhost:8080/"
        },
        "id": "2jkr1f3k4h0H",
        "outputId": "29a7c024-8e7c-494a-c332-218d0f6bf12b"
      },
      "execution_count": 62,
      "outputs": [
        {
          "output_type": "stream",
          "name": "stdout",
          "text": [
            "Média sem outliers: 1.5779035777076404\n",
            "Mediana sem outliers: 1.0\n",
            "Desvio Padrão sem outliers: 0.7752935565710629\n",
            "Variância sem outliers: 0.6010800988606079\n",
            "IQR (Intervalo Interquartil) sem outliers: 1.0\n"
          ]
        }
      ]
    },
    {
      "cell_type": "markdown",
      "source": [
        "## Análise dos Outliers"
      ],
      "metadata": {
        "id": "NfzTawI9jBWu"
      }
    },
    {
      "cell_type": "code",
      "source": [
        "warnings.filterwarnings('ignore')\n",
        "arquivo = \"Outliers.csv\"\n",
        "\n",
        "\n",
        "try:\n",
        "    df = pd.read_csv(arquivo, encoding='latin-1', error_bad_lines=False, delimiter=',')\n",
        "except pd.errors.ParserError as e:\n",
        "    print(f\"Erro na leitura do arquivo CSV: {e}\")\n",
        "\n",
        "if 'df' in locals():\n",
        "    import matplotlib.pyplot as plt\n",
        "    import seaborn as sns\n",
        "\n",
        "    # Histograma da coluna 'quantidade'\n",
        "    plt.figure(figsize=(10, 6))\n",
        "    sns.histplot(df['quantidade'], kde=True)\n",
        "    plt.title('Distribuição da Quantidade')\n",
        "    plt.xlabel('Quantidade')\n",
        "    plt.ylabel('Contagem')\n",
        "    plt.show()\n"
      ],
      "metadata": {
        "colab": {
          "base_uri": "https://localhost:8080/",
          "height": 564
        },
        "id": "aZXAUA8SX7YZ",
        "outputId": "e4c70e07-75a4-4e73-8b41-38e7d8f7bff8"
      },
      "execution_count": 22,
      "outputs": [
        {
          "output_type": "display_data",
          "data": {
            "text/plain": [
              "<Figure size 1000x600 with 1 Axes>"
            ],
            "image/png": "[encoded data removed]"
          },
          "metadata": {}
        }
      ]
    },
    {
      "cell_type": "code",
      "source": [
        "warnings.filterwarnings('ignore')\n",
        "arquivo = \"Outliers.csv\"\n",
        "\n",
        "\n",
        "try:\n",
        "    df = pd.read_csv(arquivo, encoding='latin-1', error_bad_lines=False, delimiter=',')\n",
        "except pd.errors.ParserError as e:\n",
        "    print(f\"Erro na leitura do arquivo CSV: {e}\")\n",
        "\n",
        "if 'df' in locals():\n",
        "  # Exemplo de segmentação por região\n",
        "  segmented_data = df.groupby('regiao_pais')['quantidade'].mean()\n",
        "  pd.DataFrame(segmented_data)\n",
        "\n",
        "segmented_data"
      ],
      "metadata": {
        "colab": {
          "base_uri": "https://localhost:8080/"
        },
        "id": "DykjSUiQiM7_",
        "outputId": "2c67078b-3ba3-4418-8052-0175369e28bf"
      },
      "execution_count": 45,
      "outputs": [
        {
          "output_type": "execute_result",
          "data": {
            "text/plain": [
              "regiao_pais\n",
              "Centro Oeste    34.918537\n",
              "Nordeste        43.491833\n",
              "Norte           42.147281\n",
              "Sudeste         32.901627\n",
              "Sul             37.647973\n",
              "Name: quantidade, dtype: float64"
            ]
          },
          "metadata": {},
          "execution_count": 45
        }
      ]
    },
    {
      "cell_type": "code",
      "source": [
        "warnings.filterwarnings('ignore')\n",
        "arquivo = \"Outliers.csv\"\n",
        "\n",
        "\n",
        "try:\n",
        "    df = pd.read_csv(arquivo, encoding='latin-1', error_bad_lines=False, delimiter=',')\n",
        "except pd.errors.ParserError as e:\n",
        "    print(f\"Erro na leitura do arquivo CSV: {e}\")\n",
        "\n",
        "if 'df' in locals():\n",
        "  # Resumo estatístico das colunas numéricas\n",
        "  summary = df[['valor', 'valor_total_bruto', 'valor_comissao', 'lucro_liquido']].describe()\n",
        "  pd.DataFrame(summary)\n",
        "\n",
        "summary\n",
        "\n"
      ],
      "metadata": {
        "colab": {
          "base_uri": "https://localhost:8080/",
          "height": 175
        },
        "id": "9pzvIWFoikYl",
        "outputId": "77d4f6b1-5a08-4e9e-d4c8-c0038fc0ee4a"
      },
      "execution_count": 47,
      "outputs": [
        {
          "output_type": "execute_result",
          "data": {
            "text/plain": [
              "        valor valor_total_bruto valor_comissao lucro_liquido\n",
              "count   11283             11283          11283         11283\n",
              "unique    783              2826           2670          3123\n",
              "top     21,28             85,12           1,52          30,4\n",
              "freq      458               404           1266          1281"
            ],
            "text/html": [
              "\n",
              "  <div id=\"df-8b4f1991-ad8e-49c9-86a7-6dac6a6172e9\" class=\"colab-df-container\">\n",
              "    <div>\n",
              "<style scoped>\n",
              "    .dataframe tbody tr th:only-of-type {\n",
              "        vertical-align: middle;\n",
              "    }\n",
              "\n",
              "    .dataframe tbody tr th {\n",
              "        vertical-align: top;\n",
              "    }\n",
              "\n",
              "    .dataframe thead th {\n",
              "        text-align: right;\n",
              "    }\n",
              "</style>\n",
              "<table border=\"1\" class=\"dataframe\">\n",
              "  <thead>\n",
              "    <tr style=\"text-align: right;\">\n",
              "      <th></th>\n",
              "      <th>valor</th>\n",
              "      <th>valor_total_bruto</th>\n",
              "      <th>valor_comissao</th>\n",
              "      <th>lucro_liquido</th>\n",
              "    </tr>\n",
              "  </thead>\n",
              "  <tbody>\n",
              "    <tr>\n",
              "      <th>count</th>\n",
              "      <td>11283</td>\n",
              "      <td>11283</td>\n",
              "      <td>11283</td>\n",
              "      <td>11283</td>\n",
              "    </tr>\n",
              "    <tr>\n",
              "      <th>unique</th>\n",
              "      <td>783</td>\n",
              "      <td>2826</td>\n",
              "      <td>2670</td>\n",
              "      <td>3123</td>\n",
              "    </tr>\n",
              "    <tr>\n",
              "      <th>top</th>\n",
              "      <td>21,28</td>\n",
              "      <td>85,12</td>\n",
              "      <td>1,52</td>\n",
              "      <td>30,4</td>\n",
              "    </tr>\n",
              "    <tr>\n",
              "      <th>freq</th>\n",
              "      <td>458</td>\n",
              "      <td>404</td>\n",
              "      <td>1266</td>\n",
              "      <td>1281</td>\n",
              "    </tr>\n",
              "  </tbody>\n",
              "</table>\n",
              "</div>\n",
              "    <div class=\"colab-df-buttons\">\n",
              "\n",
              "  <div class=\"colab-df-container\">\n",
              "    <button class=\"colab-df-convert\" onclick=\"convertToInteractive('df-8b4f1991-ad8e-49c9-86a7-6dac6a6172e9')\"\n",
              "            title=\"Convert this dataframe to an interactive table.\"\n",
              "            style=\"display:none;\">\n",
              "\n",
              "  <svg xmlns=\"http://www.w3.org/2000/svg\" height=\"24px\" viewBox=\"0 -960 960 960\">\n",
              "    <path d=\"M120-120v-720h720v720H120Zm60-500h600v-160H180v160Zm220 220h160v-160H400v160Zm0 220h160v-160H400v160ZM180-400h160v-160H180v160Zm440 0h160v-160H620v160ZM180-180h160v-160H180v160Zm440 0h160v-160H620v160Z\"/>\n",
              "  </svg>\n",
              "    </button>\n",
              "\n",
              "  <style>\n",
              "    .colab-df-container {\n",
              "      display:flex;\n",
              "      gap: 12px;\n",
              "    }\n",
              "\n",
              "    .colab-df-convert {\n",
              "      background-color: #E8F0FE;\n",
              "      border: none;\n",
              "      border-radius: 50%;\n",
              "      cursor: pointer;\n",
              "      display: none;\n",
              "      fill: #1967D2;\n",
              "      height: 32px;\n",
              "      padding: 0 0 0 0;\n",
              "      width: 32px;\n",
              "    }\n",
              "\n",
              "    .colab-df-convert:hover {\n",
              "      background-color: #E2EBFA;\n",
              "      box-shadow: 0px 1px 2px rgba(60, 64, 67, 0.3), 0px 1px 3px 1px rgba(60, 64, 67, 0.15);\n",
              "      fill: #174EA6;\n",
              "    }\n",
              "\n",
              "    .colab-df-buttons div {\n",
              "      margin-bottom: 4px;\n",
              "    }\n",
              "\n",
              "    [theme=dark] .colab-df-convert {\n",
              "      background-color: #3B4455;\n",
              "      fill: #D2E3FC;\n",
              "    }\n",
              "\n",
              "    [theme=dark] .colab-df-convert:hover {\n",
              "      background-color: #434B5C;\n",
              "      box-shadow: 0px 1px 3px 1px rgba(0, 0, 0, 0.15);\n",
              "      filter: drop-shadow(0px 1px 2px rgba(0, 0, 0, 0.3));\n",
              "      fill: #FFFFFF;\n",
              "    }\n",
              "  </style>\n",
              "\n",
              "    <script>\n",
              "      const buttonEl =\n",
              "        document.querySelector('#df-8b4f1991-ad8e-49c9-86a7-6dac6a6172e9 button.colab-df-convert');\n",
              "      buttonEl.style.display =\n",
              "        google.colab.kernel.accessAllowed ? 'block' : 'none';\n",
              "\n",
              "      async function convertToInteractive(key) {\n",
              "        const element = document.querySelector('#df-8b4f1991-ad8e-49c9-86a7-6dac6a6172e9');\n",
              "        const dataTable =\n",
              "          await google.colab.kernel.invokeFunction('convertToInteractive',\n",
              "                                                    [key], {});\n",
              "        if (!dataTable) return;\n",
              "\n",
              "        const docLinkHtml = 'Like what you see? Visit the ' +\n",
              "          '<a target=\"_blank\" href=https://colab.research.google.com/notebooks/data_table.ipynb>data table notebook</a>'\n",
              "          + ' to learn more about interactive tables.';\n",
              "        element.innerHTML = '';\n",
              "        dataTable['output_type'] = 'display_data';\n",
              "        await google.colab.output.renderOutput(dataTable, element);\n",
              "        const docLink = document.createElement('div');\n",
              "        docLink.innerHTML = docLinkHtml;\n",
              "        element.appendChild(docLink);\n",
              "      }\n",
              "    </script>\n",
              "  </div>\n",
              "\n",
              "\n",
              "<div id=\"df-dc1adb26-11e2-4e83-be3d-2b5ac52728ef\">\n",
              "  <button class=\"colab-df-quickchart\" onclick=\"quickchart('df-dc1adb26-11e2-4e83-be3d-2b5ac52728ef')\"\n",
              "            title=\"Suggest charts.\"\n",
              "            style=\"display:none;\">\n",
              "\n",
              "<svg xmlns=\"http://www.w3.org/2000/svg\" height=\"24px\"viewBox=\"0 0 24 24\"\n",
              "     width=\"24px\">\n",
              "    <g>\n",
              "        <path d=\"M19 3H5c-1.1 0-2 .9-2 2v14c0 1.1.9 2 2 2h14c1.1 0 2-.9 2-2V5c0-1.1-.9-2-2-2zM9 17H7v-7h2v7zm4 0h-2V7h2v10zm4 0h-2v-4h2v4z\"/>\n",
              "    </g>\n",
              "</svg>\n",
              "  </button>\n",
              "\n",
              "<style>\n",
              "  .colab-df-quickchart {\n",
              "      --bg-color: #E8F0FE;\n",
              "      --fill-color: #1967D2;\n",
              "      --hover-bg-color: #E2EBFA;\n",
              "      --hover-fill-color: #174EA6;\n",
              "      --disabled-fill-color: #AAA;\n",
              "      --disabled-bg-color: #DDD;\n",
              "  }\n",
              "\n",
              "  [theme=dark] .colab-df-quickchart {\n",
              "      --bg-color: #3B4455;\n",
              "      --fill-color: #D2E3FC;\n",
              "      --hover-bg-color: #434B5C;\n",
              "      --hover-fill-color: #FFFFFF;\n",
              "      --disabled-bg-color: #3B4455;\n",
              "      --disabled-fill-color: #666;\n",
              "  }\n",
              "\n",
              "  .colab-df-quickchart {\n",
              "    background-color: var(--bg-color);\n",
              "    border: none;\n",
              "    border-radius: 50%;\n",
              "    cursor: pointer;\n",
              "    display: none;\n",
              "    fill: var(--fill-color);\n",
              "    height: 32px;\n",
              "    padding: 0;\n",
              "    width: 32px;\n",
              "  }\n",
              "\n",
              "  .colab-df-quickchart:hover {\n",
              "    background-color: var(--hover-bg-color);\n",
              "    box-shadow: 0 1px 2px rgba(60, 64, 67, 0.3), 0 1px 3px 1px rgba(60, 64, 67, 0.15);\n",
              "    fill: var(--button-hover-fill-color);\n",
              "  }\n",
              "\n",
              "  .colab-df-quickchart-complete:disabled,\n",
              "  .colab-df-quickchart-complete:disabled:hover {\n",
              "    background-color: var(--disabled-bg-color);\n",
              "    fill: var(--disabled-fill-color);\n",
              "    box-shadow: none;\n",
              "  }\n",
              "\n",
              "  .colab-df-spinner {\n",
              "    border: 2px solid var(--fill-color);\n",
              "    border-color: transparent;\n",
              "    border-bottom-color: var(--fill-color);\n",
              "    animation:\n",
              "      spin 1s steps(1) infinite;\n",
              "  }\n",
              "\n",
              "  @keyframes spin {\n",
              "    0% {\n",
              "      border-color: transparent;\n",
              "      border-bottom-color: var(--fill-color);\n",
              "      border-left-color: var(--fill-color);\n",
              "    }\n",
              "    20% {\n",
              "      border-color: transparent;\n",
              "      border-left-color: var(--fill-color);\n",
              "      border-top-color: var(--fill-color);\n",
              "    }\n",
              "    30% {\n",
              "      border-color: transparent;\n",
              "      border-left-color: var(--fill-color);\n",
              "      border-top-color: var(--fill-color);\n",
              "      border-right-color: var(--fill-color);\n",
              "    }\n",
              "    40% {\n",
              "      border-color: transparent;\n",
              "      border-right-color: var(--fill-color);\n",
              "      border-top-color: var(--fill-color);\n",
              "    }\n",
              "    60% {\n",
              "      border-color: transparent;\n",
              "      border-right-color: var(--fill-color);\n",
              "    }\n",
              "    80% {\n",
              "      border-color: transparent;\n",
              "      border-right-color: var(--fill-color);\n",
              "      border-bottom-color: var(--fill-color);\n",
              "    }\n",
              "    90% {\n",
              "      border-color: transparent;\n",
              "      border-bottom-color: var(--fill-color);\n",
              "    }\n",
              "  }\n",
              "</style>\n",
              "\n",
              "  <script>\n",
              "    async function quickchart(key) {\n",
              "      const quickchartButtonEl =\n",
              "        document.querySelector('#' + key + ' button');\n",
              "      quickchartButtonEl.disabled = true;  // To prevent multiple clicks.\n",
              "      quickchartButtonEl.classList.add('colab-df-spinner');\n",
              "      try {\n",
              "        const charts = await google.colab.kernel.invokeFunction(\n",
              "            'suggestCharts', [key], {});\n",
              "      } catch (error) {\n",
              "        console.error('Error during call to suggestCharts:', error);\n",
              "      }\n",
              "      quickchartButtonEl.classList.remove('colab-df-spinner');\n",
              "      quickchartButtonEl.classList.add('colab-df-quickchart-complete');\n",
              "    }\n",
              "    (() => {\n",
              "      let quickchartButtonEl =\n",
              "        document.querySelector('#df-dc1adb26-11e2-4e83-be3d-2b5ac52728ef button');\n",
              "      quickchartButtonEl.style.display =\n",
              "        google.colab.kernel.accessAllowed ? 'block' : 'none';\n",
              "    })();\n",
              "  </script>\n",
              "</div>\n",
              "    </div>\n",
              "  </div>\n"
            ]
          },
          "metadata": {},
          "execution_count": 47
        }
      ]
    },
    {
      "cell_type": "code",
      "source": [
        "warnings.filterwarnings('ignore')\n",
        "arquivo = \"Outliers.csv\"\n",
        "\n",
        "try:\n",
        "    df = pd.read_csv(arquivo, encoding='latin-1', error_bad_lines=False, delimiter=',')\n",
        "except pd.errors.ParserError as e:\n",
        "    print(f\"Erro na leitura do arquivo CSV: {e}\")\n",
        "\n",
        "if 'df' in locals():\n",
        "  # Exemplo de segmentação por região\n",
        "  segmented_data = df.groupby('formapagto')['quantidade'].mean()\n",
        "  segmented_data = segmented_data.sort_values(ascending=True)\n",
        "  pd.DataFrame(segmented_data)\n",
        "\n",
        "segmented_data"
      ],
      "metadata": {
        "colab": {
          "base_uri": "https://localhost:8080/"
        },
        "id": "YNDrWAUSmiZY",
        "outputId": "7c443a3b-471f-4c29-dd09-1cd1d5a6a29c"
      },
      "execution_count": 54,
      "outputs": [
        {
          "output_type": "execute_result",
          "data": {
            "text/plain": [
              "formapagto\n",
              "Dinheiro            36.949624\n",
              "Boleto BancÃ¡rio    38.297760\n",
              "Pix                 38.570659\n",
              "Cartao DÃ©bito      38.811877\n",
              "Cartao CrÃ©dito     39.086090\n",
              "Name: quantidade, dtype: float64"
            ]
          },
          "metadata": {},
          "execution_count": 54
        }
      ]
    },
    {
      "cell_type": "markdown",
      "source": [
        "**Análise**\n",
        "\n",
        "dddd"
      ],
      "metadata": {
        "id": "iXajHjYglF0D"
      }
    }
  ]
}